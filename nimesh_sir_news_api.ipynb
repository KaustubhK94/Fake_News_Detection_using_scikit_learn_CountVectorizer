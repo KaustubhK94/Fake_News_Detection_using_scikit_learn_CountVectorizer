{
 "cells": [
  {
   "cell_type": "code",
   "execution_count": 1,
   "id": "b3493d93",
   "metadata": {},
   "outputs": [],
   "source": [
    "# import modules\n",
    "# !pip install newsapi-python"
   ]
  },
  {
   "cell_type": "code",
   "execution_count": 2,
   "id": "26843ef4",
   "metadata": {},
   "outputs": [],
   "source": [
    "from newsapi import NewsApiClient"
   ]
  },
  {
   "cell_type": "code",
   "execution_count": 3,
   "id": "a4d2696b",
   "metadata": {},
   "outputs": [],
   "source": [
    "import random"
   ]
  },
  {
   "cell_type": "code",
   "execution_count": 4,
   "id": "4eb5f9af",
   "metadata": {},
   "outputs": [],
   "source": [
    "api = '243fedcfff5a4123b1f7875dd83c4581'"
   ]
  },
  {
   "cell_type": "code",
   "execution_count": 5,
   "id": "87df794d",
   "metadata": {},
   "outputs": [],
   "source": [
    "from datetime import datetime, timedelta"
   ]
  },
  {
   "cell_type": "code",
   "execution_count": 6,
   "id": "7fdf7932",
   "metadata": {},
   "outputs": [],
   "source": [
    "from datetime import datetime, timedelta\n",
    "prev_date = datetime.today() - timedelta(days=15)\n",
    "next_date = datetime.today() - timedelta(days=0)\n",
    "p_date = str(prev_date.year)+ '-' + '0' + str(prev_date.month)+'-' + str(prev_date.day)\n",
    "c_date = str(next_date.year)+ '-' + '0' + str(next_date.month)+'-'+ '0' +str(next_date.day)"
   ]
  },
  {
   "cell_type": "code",
   "execution_count": 7,
   "id": "a4c30d94",
   "metadata": {},
   "outputs": [
    {
     "data": {
      "text/plain": [
       "'2023-03-17'"
      ]
     },
     "execution_count": 7,
     "metadata": {},
     "output_type": "execute_result"
    }
   ],
   "source": [
    "p_date"
   ]
  },
  {
   "cell_type": "code",
   "execution_count": 8,
   "id": "dce70a73",
   "metadata": {},
   "outputs": [
    {
     "data": {
      "text/plain": [
       "'2023-04-01'"
      ]
     },
     "execution_count": 8,
     "metadata": {},
     "output_type": "execute_result"
    }
   ],
   "source": [
    "c_date"
   ]
  },
  {
   "cell_type": "code",
   "execution_count": 9,
   "id": "ff2f1a7d",
   "metadata": {},
   "outputs": [],
   "source": [
    "# Task 2: Create a Get News Method\n",
    "newsapi = NewsApiClient(api_key=api)\n",
    "def getNews(sourceId):\n",
    "    newses = newsapi.get_everything(sources=sourceId,\n",
    "                                    domains='bbc.co.uk,techcrunch.com',from_param=p_date,to=c_date,language='en',\n",
    "                                    sort_by='relevancy',page=2)\n",
    "    newsData = []\n",
    "    for news in newses['articles']:\n",
    "        list = [random.randint(0, 1000), news['title'],news['content'], 'REAL']\n",
    "        newsData.append(list)\n",
    "    \n",
    "    return newsData\n"
   ]
  },
  {
   "cell_type": "code",
   "execution_count": 10,
   "id": "40673410",
   "metadata": {},
   "outputs": [
    {
     "name": "stdout",
     "output_type": "stream",
     "text": [
      "New Sources:  ['abc-news', 'abc-news-au', 'aftenposten', 'al-jazeera-english', 'ansa', 'argaam', 'ars-technica', 'ary-news', 'associated-press', 'australian-financial-review']\n"
     ]
    }
   ],
   "source": [
    "# Task 3: Get News Sources\n",
    "sources = newsapi.get_sources()\n",
    "sourceList = []\n",
    "for source in sources['sources']:\n",
    "    sourceList.append(source['id'])\n",
    "del sourceList[10:len(sourceList)]\n",
    "print('New Sources: ', sourceList)"
   ]
  },
  {
   "cell_type": "code",
   "execution_count": 11,
   "id": "293e7786",
   "metadata": {},
   "outputs": [
    {
     "name": "stdout",
     "output_type": "stream",
     "text": [
      "Total News:  1000\n"
     ]
    }
   ],
   "source": [
    "# Task 4: Get News using Multiple Sources\n",
    "dataList = []\n",
    "for sourceId in sourceList:\n",
    "    newses = getNews(sourceId)\n",
    "    dataList = dataList + newses\n",
    "print('Total News: ', len(dataList))"
   ]
  },
  {
   "cell_type": "code",
   "execution_count": 12,
   "id": "f489ebe3",
   "metadata": {},
   "outputs": [],
   "source": [
    "import pandas as pd"
   ]
  },
  {
   "cell_type": "code",
   "execution_count": 13,
   "id": "bcc29c71",
   "metadata": {},
   "outputs": [],
   "source": [
    "df = pd.DataFrame.from_records(dataList)\n",
    "df.columns = ['','title','text','label']"
   ]
  },
  {
   "cell_type": "code",
   "execution_count": 14,
   "id": "4d8e538c",
   "metadata": {},
   "outputs": [
    {
     "data": {
      "text/html": [
       "<div>\n",
       "<style scoped>\n",
       "    .dataframe tbody tr th:only-of-type {\n",
       "        vertical-align: middle;\n",
       "    }\n",
       "\n",
       "    .dataframe tbody tr th {\n",
       "        vertical-align: top;\n",
       "    }\n",
       "\n",
       "    .dataframe thead th {\n",
       "        text-align: right;\n",
       "    }\n",
       "</style>\n",
       "<table border=\"1\" class=\"dataframe\">\n",
       "  <thead>\n",
       "    <tr style=\"text-align: right;\">\n",
       "      <th></th>\n",
       "      <th></th>\n",
       "      <th>title</th>\n",
       "      <th>text</th>\n",
       "      <th>label</th>\n",
       "    </tr>\n",
       "  </thead>\n",
       "  <tbody>\n",
       "    <tr>\n",
       "      <th>0</th>\n",
       "      <td>135</td>\n",
       "      <td>Kerala: A ghost town in the world's most popul...</td>\n",
       "      <td>As India overtakes China as the world's most p...</td>\n",
       "      <td>REAL</td>\n",
       "    </tr>\n",
       "    <tr>\n",
       "      <th>1</th>\n",
       "      <td>880</td>\n",
       "      <td>Southern Ecuador earthquake kills at least 12</td>\n",
       "      <td>At least 12 people have died after a powerful ...</td>\n",
       "      <td>REAL</td>\n",
       "    </tr>\n",
       "    <tr>\n",
       "      <th>2</th>\n",
       "      <td>765</td>\n",
       "      <td>Kenya's plan to curb alcohol abuse: One pub pe...</td>\n",
       "      <td>Kenya's deputy president has tried to take a r...</td>\n",
       "      <td>REAL</td>\n",
       "    </tr>\n",
       "    <tr>\n",
       "      <th>3</th>\n",
       "      <td>213</td>\n",
       "      <td>Amazon to cut another 9,000 jobs</td>\n",
       "      <td>Online retail giant Amazon plans to cut anothe...</td>\n",
       "      <td>REAL</td>\n",
       "    </tr>\n",
       "    <tr>\n",
       "      <th>4</th>\n",
       "      <td>751</td>\n",
       "      <td>The South African choir that performed for Que...</td>\n",
       "      <td>An unearthed cache of century-old photographs ...</td>\n",
       "      <td>REAL</td>\n",
       "    </tr>\n",
       "  </tbody>\n",
       "</table>\n",
       "</div>"
      ],
      "text/plain": [
       "                                                    title  \\\n",
       "0  135  Kerala: A ghost town in the world's most popul...   \n",
       "1  880      Southern Ecuador earthquake kills at least 12   \n",
       "2  765  Kenya's plan to curb alcohol abuse: One pub pe...   \n",
       "3  213                   Amazon to cut another 9,000 jobs   \n",
       "4  751  The South African choir that performed for Que...   \n",
       "\n",
       "                                                text label  \n",
       "0  As India overtakes China as the world's most p...  REAL  \n",
       "1  At least 12 people have died after a powerful ...  REAL  \n",
       "2  Kenya's deputy president has tried to take a r...  REAL  \n",
       "3  Online retail giant Amazon plans to cut anothe...  REAL  \n",
       "4  An unearthed cache of century-old photographs ...  REAL  "
      ]
     },
     "execution_count": 14,
     "metadata": {},
     "output_type": "execute_result"
    }
   ],
   "source": [
    "df.head()"
   ]
  },
  {
   "cell_type": "code",
   "execution_count": 15,
   "id": "d6e3aa5a",
   "metadata": {},
   "outputs": [],
   "source": [
    "df_nw = pd.read_csv('C:/Users/kaustubh kapare/Downloads/archive/news.csv')"
   ]
  },
  {
   "cell_type": "code",
   "execution_count": 16,
   "id": "02474d80",
   "metadata": {},
   "outputs": [],
   "source": [
    "df_nw.columns = ['','title','text','label']"
   ]
  },
  {
   "cell_type": "code",
   "execution_count": 17,
   "id": "c1c96ecd",
   "metadata": {},
   "outputs": [
    {
     "data": {
      "text/html": [
       "<div>\n",
       "<style scoped>\n",
       "    .dataframe tbody tr th:only-of-type {\n",
       "        vertical-align: middle;\n",
       "    }\n",
       "\n",
       "    .dataframe tbody tr th {\n",
       "        vertical-align: top;\n",
       "    }\n",
       "\n",
       "    .dataframe thead th {\n",
       "        text-align: right;\n",
       "    }\n",
       "</style>\n",
       "<table border=\"1\" class=\"dataframe\">\n",
       "  <thead>\n",
       "    <tr style=\"text-align: right;\">\n",
       "      <th></th>\n",
       "      <th></th>\n",
       "      <th>title</th>\n",
       "      <th>text</th>\n",
       "      <th>label</th>\n",
       "    </tr>\n",
       "  </thead>\n",
       "  <tbody>\n",
       "    <tr>\n",
       "      <th>0</th>\n",
       "      <td>8476</td>\n",
       "      <td>You Can Smell Hillary’s Fear</td>\n",
       "      <td>Daniel Greenfield, a Shillman Journalism Fello...</td>\n",
       "      <td>FAKE</td>\n",
       "    </tr>\n",
       "    <tr>\n",
       "      <th>1</th>\n",
       "      <td>10294</td>\n",
       "      <td>Watch The Exact Moment Paul Ryan Committed Pol...</td>\n",
       "      <td>Google Pinterest Digg Linkedin Reddit Stumbleu...</td>\n",
       "      <td>FAKE</td>\n",
       "    </tr>\n",
       "    <tr>\n",
       "      <th>2</th>\n",
       "      <td>3608</td>\n",
       "      <td>Kerry to go to Paris in gesture of sympathy</td>\n",
       "      <td>U.S. Secretary of State John F. Kerry said Mon...</td>\n",
       "      <td>REAL</td>\n",
       "    </tr>\n",
       "    <tr>\n",
       "      <th>3</th>\n",
       "      <td>10142</td>\n",
       "      <td>Bernie supporters on Twitter erupt in anger ag...</td>\n",
       "      <td>— Kaydee King (@KaydeeKing) November 9, 2016 T...</td>\n",
       "      <td>FAKE</td>\n",
       "    </tr>\n",
       "    <tr>\n",
       "      <th>4</th>\n",
       "      <td>875</td>\n",
       "      <td>The Battle of New York: Why This Primary Matters</td>\n",
       "      <td>It's primary day in New York and front-runners...</td>\n",
       "      <td>REAL</td>\n",
       "    </tr>\n",
       "    <tr>\n",
       "      <th>...</th>\n",
       "      <td>...</td>\n",
       "      <td>...</td>\n",
       "      <td>...</td>\n",
       "      <td>...</td>\n",
       "    </tr>\n",
       "    <tr>\n",
       "      <th>6330</th>\n",
       "      <td>4490</td>\n",
       "      <td>State Department says it can't find emails fro...</td>\n",
       "      <td>The State Department told the Republican Natio...</td>\n",
       "      <td>REAL</td>\n",
       "    </tr>\n",
       "    <tr>\n",
       "      <th>6331</th>\n",
       "      <td>8062</td>\n",
       "      <td>The ‘P’ in PBS Should Stand for ‘Plutocratic’ ...</td>\n",
       "      <td>The ‘P’ in PBS Should Stand for ‘Plutocratic’ ...</td>\n",
       "      <td>FAKE</td>\n",
       "    </tr>\n",
       "    <tr>\n",
       "      <th>6332</th>\n",
       "      <td>8622</td>\n",
       "      <td>Anti-Trump Protesters Are Tools of the Oligarc...</td>\n",
       "      <td>Anti-Trump Protesters Are Tools of the Oligar...</td>\n",
       "      <td>FAKE</td>\n",
       "    </tr>\n",
       "    <tr>\n",
       "      <th>6333</th>\n",
       "      <td>4021</td>\n",
       "      <td>In Ethiopia, Obama seeks progress on peace, se...</td>\n",
       "      <td>ADDIS ABABA, Ethiopia —President Obama convene...</td>\n",
       "      <td>REAL</td>\n",
       "    </tr>\n",
       "    <tr>\n",
       "      <th>6334</th>\n",
       "      <td>4330</td>\n",
       "      <td>Jeb Bush Is Suddenly Attacking Trump. Here's W...</td>\n",
       "      <td>Jeb Bush Is Suddenly Attacking Trump. Here's W...</td>\n",
       "      <td>REAL</td>\n",
       "    </tr>\n",
       "  </tbody>\n",
       "</table>\n",
       "<p>6335 rows × 4 columns</p>\n",
       "</div>"
      ],
      "text/plain": [
       "                                                         title  \\\n",
       "0      8476                       You Can Smell Hillary’s Fear   \n",
       "1     10294  Watch The Exact Moment Paul Ryan Committed Pol...   \n",
       "2      3608        Kerry to go to Paris in gesture of sympathy   \n",
       "3     10142  Bernie supporters on Twitter erupt in anger ag...   \n",
       "4       875   The Battle of New York: Why This Primary Matters   \n",
       "...     ...                                                ...   \n",
       "6330   4490  State Department says it can't find emails fro...   \n",
       "6331   8062  The ‘P’ in PBS Should Stand for ‘Plutocratic’ ...   \n",
       "6332   8622  Anti-Trump Protesters Are Tools of the Oligarc...   \n",
       "6333   4021  In Ethiopia, Obama seeks progress on peace, se...   \n",
       "6334   4330  Jeb Bush Is Suddenly Attacking Trump. Here's W...   \n",
       "\n",
       "                                                   text label  \n",
       "0     Daniel Greenfield, a Shillman Journalism Fello...  FAKE  \n",
       "1     Google Pinterest Digg Linkedin Reddit Stumbleu...  FAKE  \n",
       "2     U.S. Secretary of State John F. Kerry said Mon...  REAL  \n",
       "3     — Kaydee King (@KaydeeKing) November 9, 2016 T...  FAKE  \n",
       "4     It's primary day in New York and front-runners...  REAL  \n",
       "...                                                 ...   ...  \n",
       "6330  The State Department told the Republican Natio...  REAL  \n",
       "6331  The ‘P’ in PBS Should Stand for ‘Plutocratic’ ...  FAKE  \n",
       "6332   Anti-Trump Protesters Are Tools of the Oligar...  FAKE  \n",
       "6333  ADDIS ABABA, Ethiopia —President Obama convene...  REAL  \n",
       "6334  Jeb Bush Is Suddenly Attacking Trump. Here's W...  REAL  \n",
       "\n",
       "[6335 rows x 4 columns]"
      ]
     },
     "execution_count": 17,
     "metadata": {},
     "output_type": "execute_result"
    }
   ],
   "source": [
    "df_nw"
   ]
  },
  {
   "cell_type": "code",
   "execution_count": 18,
   "id": "7b728455",
   "metadata": {},
   "outputs": [],
   "source": [
    "data = [df,df_nw]"
   ]
  },
  {
   "cell_type": "code",
   "execution_count": 19,
   "id": "249a0b70",
   "metadata": {},
   "outputs": [],
   "source": [
    "df = pd.concat(data)"
   ]
  },
  {
   "cell_type": "code",
   "execution_count": 20,
   "id": "0db3630e",
   "metadata": {},
   "outputs": [
    {
     "data": {
      "text/html": [
       "<div>\n",
       "<style scoped>\n",
       "    .dataframe tbody tr th:only-of-type {\n",
       "        vertical-align: middle;\n",
       "    }\n",
       "\n",
       "    .dataframe tbody tr th {\n",
       "        vertical-align: top;\n",
       "    }\n",
       "\n",
       "    .dataframe thead th {\n",
       "        text-align: right;\n",
       "    }\n",
       "</style>\n",
       "<table border=\"1\" class=\"dataframe\">\n",
       "  <thead>\n",
       "    <tr style=\"text-align: right;\">\n",
       "      <th></th>\n",
       "      <th></th>\n",
       "      <th>title</th>\n",
       "      <th>text</th>\n",
       "      <th>label</th>\n",
       "    </tr>\n",
       "  </thead>\n",
       "  <tbody>\n",
       "    <tr>\n",
       "      <th>0</th>\n",
       "      <td>135</td>\n",
       "      <td>Kerala: A ghost town in the world's most popul...</td>\n",
       "      <td>As India overtakes China as the world's most p...</td>\n",
       "      <td>REAL</td>\n",
       "    </tr>\n",
       "    <tr>\n",
       "      <th>1</th>\n",
       "      <td>880</td>\n",
       "      <td>Southern Ecuador earthquake kills at least 12</td>\n",
       "      <td>At least 12 people have died after a powerful ...</td>\n",
       "      <td>REAL</td>\n",
       "    </tr>\n",
       "    <tr>\n",
       "      <th>2</th>\n",
       "      <td>765</td>\n",
       "      <td>Kenya's plan to curb alcohol abuse: One pub pe...</td>\n",
       "      <td>Kenya's deputy president has tried to take a r...</td>\n",
       "      <td>REAL</td>\n",
       "    </tr>\n",
       "    <tr>\n",
       "      <th>3</th>\n",
       "      <td>213</td>\n",
       "      <td>Amazon to cut another 9,000 jobs</td>\n",
       "      <td>Online retail giant Amazon plans to cut anothe...</td>\n",
       "      <td>REAL</td>\n",
       "    </tr>\n",
       "    <tr>\n",
       "      <th>4</th>\n",
       "      <td>751</td>\n",
       "      <td>The South African choir that performed for Que...</td>\n",
       "      <td>An unearthed cache of century-old photographs ...</td>\n",
       "      <td>REAL</td>\n",
       "    </tr>\n",
       "    <tr>\n",
       "      <th>...</th>\n",
       "      <td>...</td>\n",
       "      <td>...</td>\n",
       "      <td>...</td>\n",
       "      <td>...</td>\n",
       "    </tr>\n",
       "    <tr>\n",
       "      <th>6330</th>\n",
       "      <td>4490</td>\n",
       "      <td>State Department says it can't find emails fro...</td>\n",
       "      <td>The State Department told the Republican Natio...</td>\n",
       "      <td>REAL</td>\n",
       "    </tr>\n",
       "    <tr>\n",
       "      <th>6331</th>\n",
       "      <td>8062</td>\n",
       "      <td>The ‘P’ in PBS Should Stand for ‘Plutocratic’ ...</td>\n",
       "      <td>The ‘P’ in PBS Should Stand for ‘Plutocratic’ ...</td>\n",
       "      <td>FAKE</td>\n",
       "    </tr>\n",
       "    <tr>\n",
       "      <th>6332</th>\n",
       "      <td>8622</td>\n",
       "      <td>Anti-Trump Protesters Are Tools of the Oligarc...</td>\n",
       "      <td>Anti-Trump Protesters Are Tools of the Oligar...</td>\n",
       "      <td>FAKE</td>\n",
       "    </tr>\n",
       "    <tr>\n",
       "      <th>6333</th>\n",
       "      <td>4021</td>\n",
       "      <td>In Ethiopia, Obama seeks progress on peace, se...</td>\n",
       "      <td>ADDIS ABABA, Ethiopia —President Obama convene...</td>\n",
       "      <td>REAL</td>\n",
       "    </tr>\n",
       "    <tr>\n",
       "      <th>6334</th>\n",
       "      <td>4330</td>\n",
       "      <td>Jeb Bush Is Suddenly Attacking Trump. Here's W...</td>\n",
       "      <td>Jeb Bush Is Suddenly Attacking Trump. Here's W...</td>\n",
       "      <td>REAL</td>\n",
       "    </tr>\n",
       "  </tbody>\n",
       "</table>\n",
       "<p>7335 rows × 4 columns</p>\n",
       "</div>"
      ],
      "text/plain": [
       "                                                        title  \\\n",
       "0      135  Kerala: A ghost town in the world's most popul...   \n",
       "1      880      Southern Ecuador earthquake kills at least 12   \n",
       "2      765  Kenya's plan to curb alcohol abuse: One pub pe...   \n",
       "3      213                   Amazon to cut another 9,000 jobs   \n",
       "4      751  The South African choir that performed for Que...   \n",
       "...    ...                                                ...   \n",
       "6330  4490  State Department says it can't find emails fro...   \n",
       "6331  8062  The ‘P’ in PBS Should Stand for ‘Plutocratic’ ...   \n",
       "6332  8622  Anti-Trump Protesters Are Tools of the Oligarc...   \n",
       "6333  4021  In Ethiopia, Obama seeks progress on peace, se...   \n",
       "6334  4330  Jeb Bush Is Suddenly Attacking Trump. Here's W...   \n",
       "\n",
       "                                                   text label  \n",
       "0     As India overtakes China as the world's most p...  REAL  \n",
       "1     At least 12 people have died after a powerful ...  REAL  \n",
       "2     Kenya's deputy president has tried to take a r...  REAL  \n",
       "3     Online retail giant Amazon plans to cut anothe...  REAL  \n",
       "4     An unearthed cache of century-old photographs ...  REAL  \n",
       "...                                                 ...   ...  \n",
       "6330  The State Department told the Republican Natio...  REAL  \n",
       "6331  The ‘P’ in PBS Should Stand for ‘Plutocratic’ ...  FAKE  \n",
       "6332   Anti-Trump Protesters Are Tools of the Oligar...  FAKE  \n",
       "6333  ADDIS ABABA, Ethiopia —President Obama convene...  REAL  \n",
       "6334  Jeb Bush Is Suddenly Attacking Trump. Here's W...  REAL  \n",
       "\n",
       "[7335 rows x 4 columns]"
      ]
     },
     "execution_count": 20,
     "metadata": {},
     "output_type": "execute_result"
    }
   ],
   "source": [
    "df"
   ]
  },
  {
   "cell_type": "code",
   "execution_count": 21,
   "id": "85afd2aa",
   "metadata": {},
   "outputs": [
    {
     "data": {
      "text/plain": [
       "REAL    4171\n",
       "FAKE    3164\n",
       "Name: label, dtype: int64"
      ]
     },
     "execution_count": 21,
     "metadata": {},
     "output_type": "execute_result"
    }
   ],
   "source": [
    "df[\"label\"].value_counts()"
   ]
  },
  {
   "cell_type": "code",
   "execution_count": 22,
   "id": "1deb3c3a",
   "metadata": {},
   "outputs": [],
   "source": [
    "from sklearn.model_selection import train_test_split\n",
    "from sklearn.metrics import accuracy_score\n",
    "from sklearn.feature_extraction.text import CountVectorizer\n",
    "from sklearn.linear_model import PassiveAggressiveClassifier"
   ]
  },
  {
   "cell_type": "code",
   "execution_count": 23,
   "id": "83b5428b",
   "metadata": {},
   "outputs": [],
   "source": [
    "X = df[\"text\"]"
   ]
  },
  {
   "cell_type": "code",
   "execution_count": 24,
   "id": "84ba4ce6",
   "metadata": {},
   "outputs": [
    {
     "data": {
      "text/plain": [
       "0       As India overtakes China as the world's most p...\n",
       "1       At least 12 people have died after a powerful ...\n",
       "2       Kenya's deputy president has tried to take a r...\n",
       "3       Online retail giant Amazon plans to cut anothe...\n",
       "4       An unearthed cache of century-old photographs ...\n",
       "                              ...                        \n",
       "6330    The State Department told the Republican Natio...\n",
       "6331    The ‘P’ in PBS Should Stand for ‘Plutocratic’ ...\n",
       "6332     Anti-Trump Protesters Are Tools of the Oligar...\n",
       "6333    ADDIS ABABA, Ethiopia —President Obama convene...\n",
       "6334    Jeb Bush Is Suddenly Attacking Trump. Here's W...\n",
       "Name: text, Length: 7335, dtype: object"
      ]
     },
     "execution_count": 24,
     "metadata": {},
     "output_type": "execute_result"
    }
   ],
   "source": [
    "X"
   ]
  },
  {
   "cell_type": "code",
   "execution_count": 25,
   "id": "caa8351f",
   "metadata": {},
   "outputs": [],
   "source": [
    "y = df[\"label\"]"
   ]
  },
  {
   "cell_type": "code",
   "execution_count": 27,
   "id": "db87e2a0",
   "metadata": {},
   "outputs": [
    {
     "data": {
      "text/plain": [
       "0       REAL\n",
       "1       REAL\n",
       "2       REAL\n",
       "3       REAL\n",
       "4       REAL\n",
       "        ... \n",
       "6330    REAL\n",
       "6331    FAKE\n",
       "6332    FAKE\n",
       "6333    REAL\n",
       "6334    REAL\n",
       "Name: label, Length: 7335, dtype: object"
      ]
     },
     "execution_count": 27,
     "metadata": {},
     "output_type": "execute_result"
    }
   ],
   "source": [
    "y"
   ]
  },
  {
   "cell_type": "code",
   "execution_count": 26,
   "id": "dbb7608f",
   "metadata": {},
   "outputs": [],
   "source": [
    "x_tr,x_tst,y_tr,y_tst = train_test_split(X,y,test_size=.3,random_state=100)"
   ]
  },
  {
   "cell_type": "code",
   "execution_count": 28,
   "id": "2c60c75a",
   "metadata": {},
   "outputs": [],
   "source": [
    "count_vect = CountVectorizer(stop_words='english',max_df=0.7)"
   ]
  },
  {
   "cell_type": "code",
   "execution_count": 29,
   "id": "abd65d52",
   "metadata": {},
   "outputs": [],
   "source": [
    "feature_tr = count_vect.fit_transform(x_tr)"
   ]
  },
  {
   "cell_type": "code",
   "execution_count": 30,
   "id": "bd8037c2",
   "metadata": {},
   "outputs": [],
   "source": [
    "feature_tst = count_vect.transform(x_tst)"
   ]
  },
  {
   "cell_type": "code",
   "execution_count": 49,
   "id": "0b718eb2",
   "metadata": {},
   "outputs": [],
   "source": [
    "PAC = PassiveAggressiveClassifier(max_iter=50)"
   ]
  },
  {
   "cell_type": "code",
   "execution_count": 50,
   "id": "582a9338",
   "metadata": {},
   "outputs": [
    {
     "data": {
      "text/html": [
       "<style>#sk-container-id-1 {color: black;background-color: white;}#sk-container-id-1 pre{padding: 0;}#sk-container-id-1 div.sk-toggleable {background-color: white;}#sk-container-id-1 label.sk-toggleable__label {cursor: pointer;display: block;width: 100%;margin-bottom: 0;padding: 0.3em;box-sizing: border-box;text-align: center;}#sk-container-id-1 label.sk-toggleable__label-arrow:before {content: \"▸\";float: left;margin-right: 0.25em;color: #696969;}#sk-container-id-1 label.sk-toggleable__label-arrow:hover:before {color: black;}#sk-container-id-1 div.sk-estimator:hover label.sk-toggleable__label-arrow:before {color: black;}#sk-container-id-1 div.sk-toggleable__content {max-height: 0;max-width: 0;overflow: hidden;text-align: left;background-color: #f0f8ff;}#sk-container-id-1 div.sk-toggleable__content pre {margin: 0.2em;color: black;border-radius: 0.25em;background-color: #f0f8ff;}#sk-container-id-1 input.sk-toggleable__control:checked~div.sk-toggleable__content {max-height: 200px;max-width: 100%;overflow: auto;}#sk-container-id-1 input.sk-toggleable__control:checked~label.sk-toggleable__label-arrow:before {content: \"▾\";}#sk-container-id-1 div.sk-estimator input.sk-toggleable__control:checked~label.sk-toggleable__label {background-color: #d4ebff;}#sk-container-id-1 div.sk-label input.sk-toggleable__control:checked~label.sk-toggleable__label {background-color: #d4ebff;}#sk-container-id-1 input.sk-hidden--visually {border: 0;clip: rect(1px 1px 1px 1px);clip: rect(1px, 1px, 1px, 1px);height: 1px;margin: -1px;overflow: hidden;padding: 0;position: absolute;width: 1px;}#sk-container-id-1 div.sk-estimator {font-family: monospace;background-color: #f0f8ff;border: 1px dotted black;border-radius: 0.25em;box-sizing: border-box;margin-bottom: 0.5em;}#sk-container-id-1 div.sk-estimator:hover {background-color: #d4ebff;}#sk-container-id-1 div.sk-parallel-item::after {content: \"\";width: 100%;border-bottom: 1px solid gray;flex-grow: 1;}#sk-container-id-1 div.sk-label:hover label.sk-toggleable__label {background-color: #d4ebff;}#sk-container-id-1 div.sk-serial::before {content: \"\";position: absolute;border-left: 1px solid gray;box-sizing: border-box;top: 0;bottom: 0;left: 50%;z-index: 0;}#sk-container-id-1 div.sk-serial {display: flex;flex-direction: column;align-items: center;background-color: white;padding-right: 0.2em;padding-left: 0.2em;position: relative;}#sk-container-id-1 div.sk-item {position: relative;z-index: 1;}#sk-container-id-1 div.sk-parallel {display: flex;align-items: stretch;justify-content: center;background-color: white;position: relative;}#sk-container-id-1 div.sk-item::before, #sk-container-id-1 div.sk-parallel-item::before {content: \"\";position: absolute;border-left: 1px solid gray;box-sizing: border-box;top: 0;bottom: 0;left: 50%;z-index: -1;}#sk-container-id-1 div.sk-parallel-item {display: flex;flex-direction: column;z-index: 1;position: relative;background-color: white;}#sk-container-id-1 div.sk-parallel-item:first-child::after {align-self: flex-end;width: 50%;}#sk-container-id-1 div.sk-parallel-item:last-child::after {align-self: flex-start;width: 50%;}#sk-container-id-1 div.sk-parallel-item:only-child::after {width: 0;}#sk-container-id-1 div.sk-dashed-wrapped {border: 1px dashed gray;margin: 0 0.4em 0.5em 0.4em;box-sizing: border-box;padding-bottom: 0.4em;background-color: white;}#sk-container-id-1 div.sk-label label {font-family: monospace;font-weight: bold;display: inline-block;line-height: 1.2em;}#sk-container-id-1 div.sk-label-container {text-align: center;}#sk-container-id-1 div.sk-container {/* jupyter's `normalize.less` sets `[hidden] { display: none; }` but bootstrap.min.css set `[hidden] { display: none !important; }` so we also need the `!important` here to be able to override the default hidden behavior on the sphinx rendered scikit-learn.org. See: https://github.com/scikit-learn/scikit-learn/issues/21755 */display: inline-block !important;position: relative;}#sk-container-id-1 div.sk-text-repr-fallback {display: none;}</style><div id=\"sk-container-id-1\" class=\"sk-top-container\"><div class=\"sk-text-repr-fallback\"><pre>PassiveAggressiveClassifier(max_iter=50)</pre><b>In a Jupyter environment, please rerun this cell to show the HTML representation or trust the notebook. <br />On GitHub, the HTML representation is unable to render, please try loading this page with nbviewer.org.</b></div><div class=\"sk-container\" hidden><div class=\"sk-item\"><div class=\"sk-estimator sk-toggleable\"><input class=\"sk-toggleable__control sk-hidden--visually\" id=\"sk-estimator-id-1\" type=\"checkbox\" checked><label for=\"sk-estimator-id-1\" class=\"sk-toggleable__label sk-toggleable__label-arrow\">PassiveAggressiveClassifier</label><div class=\"sk-toggleable__content\"><pre>PassiveAggressiveClassifier(max_iter=50)</pre></div></div></div></div></div>"
      ],
      "text/plain": [
       "PassiveAggressiveClassifier(max_iter=50)"
      ]
     },
     "execution_count": 50,
     "metadata": {},
     "output_type": "execute_result"
    }
   ],
   "source": [
    "PAC.fit(feature_tr,y_tr)"
   ]
  },
  {
   "cell_type": "code",
   "execution_count": 51,
   "id": "1a46d829",
   "metadata": {},
   "outputs": [],
   "source": [
    "pr = PAC.predict(feature_tst)"
   ]
  },
  {
   "cell_type": "code",
   "execution_count": 57,
   "id": "eeb9c355",
   "metadata": {},
   "outputs": [],
   "source": [
    "train_pr = PAC.predict(feature_tr)"
   ]
  },
  {
   "cell_type": "code",
   "execution_count": 52,
   "id": "b83b0714",
   "metadata": {},
   "outputs": [
    {
     "data": {
      "text/plain": [
       "array(['REAL', 'REAL', 'FAKE', ..., 'REAL', 'FAKE', 'FAKE'], dtype='<U4')"
      ]
     },
     "execution_count": 52,
     "metadata": {},
     "output_type": "execute_result"
    }
   ],
   "source": [
    "pr"
   ]
  },
  {
   "cell_type": "code",
   "execution_count": 55,
   "id": "7f41c48e",
   "metadata": {},
   "outputs": [
    {
     "data": {
      "text/plain": [
       "0.9141299409359382"
      ]
     },
     "execution_count": 55,
     "metadata": {},
     "output_type": "execute_result"
    }
   ],
   "source": [
    "accuracy_score(y_tst,pr)"
   ]
  },
  {
   "cell_type": "code",
   "execution_count": 58,
   "id": "9b1d80b6",
   "metadata": {},
   "outputs": [
    {
     "data": {
      "text/plain": [
       "1.0"
      ]
     },
     "execution_count": 58,
     "metadata": {},
     "output_type": "execute_result"
    }
   ],
   "source": [
    "accuracy_score(y_tr,train_pr)"
   ]
  },
  {
   "cell_type": "code",
   "execution_count": 61,
   "id": "e64520bc",
   "metadata": {},
   "outputs": [],
   "source": [
    "test_data = pd.read_csv('C:/Users/kaustubh kapare/Downloads/archive/test.csv/test.csv')"
   ]
  },
  {
   "cell_type": "code",
   "execution_count": 64,
   "id": "91d4f7d0",
   "metadata": {},
   "outputs": [
    {
     "data": {
      "text/plain": [
       "id          0\n",
       "title     122\n",
       "author    503\n",
       "text        7\n",
       "dtype: int64"
      ]
     },
     "execution_count": 64,
     "metadata": {},
     "output_type": "execute_result"
    }
   ],
   "source": [
    "test_data.isna().sum()"
   ]
  },
  {
   "cell_type": "code",
   "execution_count": 68,
   "id": "9b67013e",
   "metadata": {},
   "outputs": [],
   "source": [
    "test_data.dropna(inplace=True)"
   ]
  },
  {
   "cell_type": "code",
   "execution_count": 69,
   "id": "cb3822a0",
   "metadata": {},
   "outputs": [
    {
     "data": {
      "text/plain": [
       "id        0\n",
       "title     0\n",
       "author    0\n",
       "text      0\n",
       "dtype: int64"
      ]
     },
     "execution_count": 69,
     "metadata": {},
     "output_type": "execute_result"
    }
   ],
   "source": [
    "test_data.isna().sum()"
   ]
  },
  {
   "cell_type": "code",
   "execution_count": 70,
   "id": "e76b2ecd",
   "metadata": {},
   "outputs": [],
   "source": [
    "test_data_feature = count_vect.transform(test_data[\"text\"])"
   ]
  },
  {
   "cell_type": "code",
   "execution_count": 72,
   "id": "dcb9e42c",
   "metadata": {},
   "outputs": [
    {
     "name": "stdout",
     "output_type": "stream",
     "text": [
      "  (0, 1)\t6\n",
      "  (0, 102)\t1\n",
      "  (0, 247)\t1\n",
      "  (0, 289)\t1\n",
      "  (0, 632)\t1\n",
      "  (0, 655)\t2\n",
      "  (0, 659)\t1\n",
      "  (0, 711)\t1\n",
      "  (0, 801)\t2\n",
      "  (0, 907)\t1\n",
      "  (0, 1094)\t1\n",
      "  (0, 1243)\t2\n",
      "  (0, 1244)\t2\n",
      "  (0, 2149)\t1\n",
      "  (0, 2234)\t1\n",
      "  (0, 2287)\t2\n",
      "  (0, 2288)\t2\n",
      "  (0, 2302)\t1\n",
      "  (0, 2358)\t1\n",
      "  (0, 2434)\t1\n",
      "  (0, 2452)\t1\n",
      "  (0, 2453)\t1\n",
      "  (0, 2684)\t1\n",
      "  (0, 2770)\t1\n",
      "  (0, 2791)\t1\n",
      "  :\t:\n",
      "  (4574, 54834)\t1\n",
      "  (4574, 54835)\t1\n",
      "  (4574, 55206)\t2\n",
      "  (4574, 55337)\t1\n",
      "  (4574, 55407)\t3\n",
      "  (4574, 55475)\t2\n",
      "  (4574, 55508)\t1\n",
      "  (4574, 55534)\t1\n",
      "  (4574, 55586)\t3\n",
      "  (4574, 55653)\t1\n",
      "  (4574, 55714)\t1\n",
      "  (4574, 56076)\t2\n",
      "  (4574, 56394)\t3\n",
      "  (4574, 56403)\t6\n",
      "  (4574, 56407)\t1\n",
      "  (4574, 56410)\t1\n",
      "  (4574, 56416)\t1\n",
      "  (4574, 56476)\t1\n",
      "  (4574, 56529)\t1\n",
      "  (4574, 56589)\t1\n",
      "  (4574, 56642)\t1\n",
      "  (4574, 56647)\t1\n",
      "  (4574, 56910)\t1\n",
      "  (4574, 56925)\t1\n",
      "  (4574, 57006)\t1\n"
     ]
    }
   ],
   "source": [
    "print(test_data_feature)"
   ]
  },
  {
   "cell_type": "code",
   "execution_count": 73,
   "id": "2b272315",
   "metadata": {},
   "outputs": [],
   "source": [
    "test_feature_pred = PAC.predict(test_data_feature)"
   ]
  },
  {
   "cell_type": "code",
   "execution_count": 74,
   "id": "637f5b19",
   "metadata": {},
   "outputs": [
    {
     "data": {
      "text/plain": [
       "array(['REAL', 'FAKE', 'FAKE', ..., 'REAL', 'FAKE', 'FAKE'], dtype='<U4')"
      ]
     },
     "execution_count": 74,
     "metadata": {},
     "output_type": "execute_result"
    }
   ],
   "source": [
    "test_feature_pred"
   ]
  },
  {
   "cell_type": "code",
   "execution_count": 76,
   "id": "25a1a587",
   "metadata": {},
   "outputs": [],
   "source": [
    "tst = pd.read_csv('C:/Users/kaustubh kapare/Downloads/archive/test_data.csv')"
   ]
  },
  {
   "cell_type": "code",
   "execution_count": 77,
   "id": "a6c652c1",
   "metadata": {},
   "outputs": [
    {
     "data": {
      "text/html": [
       "<div>\n",
       "<style scoped>\n",
       "    .dataframe tbody tr th:only-of-type {\n",
       "        vertical-align: middle;\n",
       "    }\n",
       "\n",
       "    .dataframe tbody tr th {\n",
       "        vertical-align: top;\n",
       "    }\n",
       "\n",
       "    .dataframe thead th {\n",
       "        text-align: right;\n",
       "    }\n",
       "</style>\n",
       "<table border=\"1\" class=\"dataframe\">\n",
       "  <thead>\n",
       "    <tr style=\"text-align: right;\">\n",
       "      <th></th>\n",
       "      <th>Unnamed: 0</th>\n",
       "      <th>Unnamed: 1</th>\n",
       "      <th>title</th>\n",
       "      <th>text</th>\n",
       "      <th>label</th>\n",
       "    </tr>\n",
       "  </thead>\n",
       "  <tbody>\n",
       "    <tr>\n",
       "      <th>0</th>\n",
       "      <td>914</td>\n",
       "      <td>7014</td>\n",
       "      <td>Trumps Hollywood Walk of Fame star Destroyed w...</td>\n",
       "      <td>Trump's Hollywood Walk of Fame star Destroyed ...</td>\n",
       "      <td>FAKE</td>\n",
       "    </tr>\n",
       "    <tr>\n",
       "      <th>1</th>\n",
       "      <td>4058</td>\n",
       "      <td>6440</td>\n",
       "      <td>Corporate Army smashes Dakota barbarians near ...</td>\n",
       "      <td>Corporate Army smashes Dakota barbarians near ...</td>\n",
       "      <td>FAKE</td>\n",
       "    </tr>\n",
       "    <tr>\n",
       "      <th>2</th>\n",
       "      <td>4982</td>\n",
       "      <td>6125</td>\n",
       "      <td>German Panzers to Rumble Once More Along Russi...</td>\n",
       "      <td>Citizen journalism with a punch German Panzers...</td>\n",
       "      <td>FAKE</td>\n",
       "    </tr>\n",
       "    <tr>\n",
       "      <th>3</th>\n",
       "      <td>800</td>\n",
       "      <td>8389</td>\n",
       "      <td>Contaminated Food from China Now Entering the ...</td>\n",
       "      <td>Contaminated Food from China Now Entering the ...</td>\n",
       "      <td>FAKE</td>\n",
       "    </tr>\n",
       "    <tr>\n",
       "      <th>4</th>\n",
       "      <td>4871</td>\n",
       "      <td>976</td>\n",
       "      <td>Cruz likely to block Trump on a second ballot ...</td>\n",
       "      <td>Republican presidential candidate Ted Cruz is ...</td>\n",
       "      <td>REAL</td>\n",
       "    </tr>\n",
       "    <tr>\n",
       "      <th>5</th>\n",
       "      <td>3702</td>\n",
       "      <td>6705</td>\n",
       "      <td>Bret Baier: FBI Indictment ALMOST certain in H...</td>\n",
       "      <td>Bret Baier: FBI Indictment ALMOST certain in H...</td>\n",
       "      <td>FAKE</td>\n",
       "    </tr>\n",
       "    <tr>\n",
       "      <th>6</th>\n",
       "      <td>2754</td>\n",
       "      <td>128</td>\n",
       "      <td>Yes, Black America fears the police. Here’s why.</td>\n",
       "      <td>Last July 4, my family and I went to Long Isla...</td>\n",
       "      <td>REAL</td>\n",
       "    </tr>\n",
       "    <tr>\n",
       "      <th>7</th>\n",
       "      <td>6236</td>\n",
       "      <td>7475</td>\n",
       "      <td>Doorway on Moon Found at Bancroft Crater, Goog...</td>\n",
       "      <td>(Before It's News)\\nDate of discovery: October...</td>\n",
       "      <td>FAKE</td>\n",
       "    </tr>\n",
       "    <tr>\n",
       "      <th>8</th>\n",
       "      <td>4543</td>\n",
       "      <td>5341</td>\n",
       "      <td>France’s Far-Right National Front Seeks Fundin...</td>\n",
       "      <td>Videos France’s Far-Right National Front Seeks...</td>\n",
       "      <td>FAKE</td>\n",
       "    </tr>\n",
       "    <tr>\n",
       "      <th>9</th>\n",
       "      <td>4773</td>\n",
       "      <td>6676</td>\n",
       "      <td>Kylie Jenner Sizzles In These Chip-Pan Acciden...</td>\n",
       "      <td>We Use Cookies: Our policy [X] Kylie Jenner Si...</td>\n",
       "      <td>FAKE</td>\n",
       "    </tr>\n",
       "    <tr>\n",
       "      <th>10</th>\n",
       "      <td>899</td>\n",
       "      <td>5602</td>\n",
       "      <td>CNN Calls Sheriff Clarke A ‘Terrorist’ After T...</td>\n",
       "      <td>VIA Conservative 101 According to Politico , s...</td>\n",
       "      <td>FAKE</td>\n",
       "    </tr>\n",
       "    <tr>\n",
       "      <th>11</th>\n",
       "      <td>2714</td>\n",
       "      <td>2000</td>\n",
       "      <td>President Paul? Wall Street on high alert</td>\n",
       "      <td>A verdict in 2017 could have sweeping conseque...</td>\n",
       "      <td>REAL</td>\n",
       "    </tr>\n",
       "    <tr>\n",
       "      <th>12</th>\n",
       "      <td>1933</td>\n",
       "      <td>5542</td>\n",
       "      <td>Russia stops shipping Soyuz space rockets to F...</td>\n",
       "      <td>Russia stops shipping Soyuz space rockets to F...</td>\n",
       "      <td>FAKE</td>\n",
       "    </tr>\n",
       "    <tr>\n",
       "      <th>13</th>\n",
       "      <td>567</td>\n",
       "      <td>4561</td>\n",
       "      <td>'NO CAMP! NO CAMP!': Scuffles break out at Hun...</td>\n",
       "      <td>Confusion reigned at Budapest's main railway s...</td>\n",
       "      <td>REAL</td>\n",
       "    </tr>\n",
       "    <tr>\n",
       "      <th>14</th>\n",
       "      <td>3217</td>\n",
       "      <td>9664</td>\n",
       "      <td>Gay man finds it in himself to tolerate religi...</td>\n",
       "      <td>Gay man finds it in himself to tolerate religi...</td>\n",
       "      <td>FAKE</td>\n",
       "    </tr>\n",
       "    <tr>\n",
       "      <th>15</th>\n",
       "      <td>4306</td>\n",
       "      <td>4820</td>\n",
       "      <td>Campaign 2016 is divisive: What it says for th...</td>\n",
       "      <td>As the GOP becomes whiter, older, and more rel...</td>\n",
       "      <td>REAL</td>\n",
       "    </tr>\n",
       "    <tr>\n",
       "      <th>16</th>\n",
       "      <td>375</td>\n",
       "      <td>5035</td>\n",
       "      <td>Obama: Trump is ‘unfit to serve as president’</td>\n",
       "      <td>President Obama on Tuesday escalated his criti...</td>\n",
       "      <td>REAL</td>\n",
       "    </tr>\n",
       "    <tr>\n",
       "      <th>17</th>\n",
       "      <td>5339</td>\n",
       "      <td>5540</td>\n",
       "      <td>ISIS applies chlorine in Aleppo</td>\n",
       "      <td>ISIS applies chlorine in Aleppo 01.11.2016 One...</td>\n",
       "      <td>FAKE</td>\n",
       "    </tr>\n",
       "    <tr>\n",
       "      <th>18</th>\n",
       "      <td>4586</td>\n",
       "      <td>4704</td>\n",
       "      <td>WashPost Poll: Clinton Leads Trump by 4</td>\n",
       "      <td>Hillary Clinton leads Donald Trump by just 4 p...</td>\n",
       "      <td>REAL</td>\n",
       "    </tr>\n",
       "    <tr>\n",
       "      <th>19</th>\n",
       "      <td>1637</td>\n",
       "      <td>7829</td>\n",
       "      <td>Saudi Arabia Re-Elected, Russia Loses UN Human...</td>\n",
       "      <td>Carol Adl in News , World // 0 Comments \\nRu...</td>\n",
       "      <td>FAKE</td>\n",
       "    </tr>\n",
       "  </tbody>\n",
       "</table>\n",
       "</div>"
      ],
      "text/plain": [
       "    Unnamed: 0  Unnamed: 1                                              title  \\\n",
       "0          914        7014  Trumps Hollywood Walk of Fame star Destroyed w...   \n",
       "1         4058        6440  Corporate Army smashes Dakota barbarians near ...   \n",
       "2         4982        6125  German Panzers to Rumble Once More Along Russi...   \n",
       "3          800        8389  Contaminated Food from China Now Entering the ...   \n",
       "4         4871         976  Cruz likely to block Trump on a second ballot ...   \n",
       "5         3702        6705  Bret Baier: FBI Indictment ALMOST certain in H...   \n",
       "6         2754         128   Yes, Black America fears the police. Here’s why.   \n",
       "7         6236        7475  Doorway on Moon Found at Bancroft Crater, Goog...   \n",
       "8         4543        5341  France’s Far-Right National Front Seeks Fundin...   \n",
       "9         4773        6676  Kylie Jenner Sizzles In These Chip-Pan Acciden...   \n",
       "10         899        5602  CNN Calls Sheriff Clarke A ‘Terrorist’ After T...   \n",
       "11        2714        2000          President Paul? Wall Street on high alert   \n",
       "12        1933        5542  Russia stops shipping Soyuz space rockets to F...   \n",
       "13         567        4561  'NO CAMP! NO CAMP!': Scuffles break out at Hun...   \n",
       "14        3217        9664  Gay man finds it in himself to tolerate religi...   \n",
       "15        4306        4820  Campaign 2016 is divisive: What it says for th...   \n",
       "16         375        5035      Obama: Trump is ‘unfit to serve as president’   \n",
       "17        5339        5540                    ISIS applies chlorine in Aleppo   \n",
       "18        4586        4704            WashPost Poll: Clinton Leads Trump by 4   \n",
       "19        1637        7829  Saudi Arabia Re-Elected, Russia Loses UN Human...   \n",
       "\n",
       "                                                 text label  \n",
       "0   Trump's Hollywood Walk of Fame star Destroyed ...  FAKE  \n",
       "1   Corporate Army smashes Dakota barbarians near ...  FAKE  \n",
       "2   Citizen journalism with a punch German Panzers...  FAKE  \n",
       "3   Contaminated Food from China Now Entering the ...  FAKE  \n",
       "4   Republican presidential candidate Ted Cruz is ...  REAL  \n",
       "5   Bret Baier: FBI Indictment ALMOST certain in H...  FAKE  \n",
       "6   Last July 4, my family and I went to Long Isla...  REAL  \n",
       "7   (Before It's News)\\nDate of discovery: October...  FAKE  \n",
       "8   Videos France’s Far-Right National Front Seeks...  FAKE  \n",
       "9   We Use Cookies: Our policy [X] Kylie Jenner Si...  FAKE  \n",
       "10  VIA Conservative 101 According to Politico , s...  FAKE  \n",
       "11  A verdict in 2017 could have sweeping conseque...  REAL  \n",
       "12  Russia stops shipping Soyuz space rockets to F...  FAKE  \n",
       "13  Confusion reigned at Budapest's main railway s...  REAL  \n",
       "14  Gay man finds it in himself to tolerate religi...  FAKE  \n",
       "15  As the GOP becomes whiter, older, and more rel...  REAL  \n",
       "16  President Obama on Tuesday escalated his criti...  REAL  \n",
       "17  ISIS applies chlorine in Aleppo 01.11.2016 One...  FAKE  \n",
       "18  Hillary Clinton leads Donald Trump by just 4 p...  REAL  \n",
       "19    Carol Adl in News , World // 0 Comments \\nRu...  FAKE  "
      ]
     },
     "execution_count": 77,
     "metadata": {},
     "output_type": "execute_result"
    }
   ],
   "source": [
    "tst"
   ]
  },
  {
   "cell_type": "code",
   "execution_count": 78,
   "id": "4c05d44b",
   "metadata": {},
   "outputs": [],
   "source": [
    "tst_feat = count_vect.transform(tst[\"text\"])"
   ]
  },
  {
   "cell_type": "code",
   "execution_count": 79,
   "id": "0c9e55a3",
   "metadata": {},
   "outputs": [],
   "source": [
    "tst_label = tst[\"label\"]"
   ]
  },
  {
   "cell_type": "code",
   "execution_count": 80,
   "id": "22d26bbe",
   "metadata": {},
   "outputs": [],
   "source": [
    "pr_new = PAC.predict(tst_feat)"
   ]
  },
  {
   "cell_type": "code",
   "execution_count": 81,
   "id": "0d3d5ad6",
   "metadata": {},
   "outputs": [
    {
     "data": {
      "text/plain": [
       "array(['FAKE', 'FAKE', 'FAKE', 'FAKE', 'REAL', 'FAKE', 'REAL', 'FAKE',\n",
       "       'FAKE', 'FAKE', 'FAKE', 'REAL', 'FAKE', 'REAL', 'FAKE', 'REAL',\n",
       "       'REAL', 'FAKE', 'REAL', 'FAKE'], dtype='<U4')"
      ]
     },
     "execution_count": 81,
     "metadata": {},
     "output_type": "execute_result"
    }
   ],
   "source": [
    "pr_new"
   ]
  },
  {
   "cell_type": "code",
   "execution_count": 82,
   "id": "4b3ad4f3",
   "metadata": {},
   "outputs": [
    {
     "data": {
      "text/plain": [
       "1.0"
      ]
     },
     "execution_count": 82,
     "metadata": {},
     "output_type": "execute_result"
    }
   ],
   "source": [
    "accuracy_score(tst_label,pr_new)"
   ]
  },
  {
   "cell_type": "code",
   "execution_count": null,
   "id": "0a631d4d",
   "metadata": {},
   "outputs": [],
   "source": []
  }
 ],
 "metadata": {
  "kernelspec": {
   "display_name": "Python 3 (ipykernel)",
   "language": "python",
   "name": "python3"
  },
  "language_info": {
   "codemirror_mode": {
    "name": "ipython",
    "version": 3
   },
   "file_extension": ".py",
   "mimetype": "text/x-python",
   "name": "python",
   "nbconvert_exporter": "python",
   "pygments_lexer": "ipython3",
   "version": "3.9.13"
  }
 },
 "nbformat": 4,
 "nbformat_minor": 5
}
